{
  "cells": [
    {
      "attachments": {},
      "cell_type": "markdown",
      "metadata": {
        "id": "fvWx6aeJm2CU"
      },
      "source": [
        "# The Forward-Forward Algorithm\n",
        "\n",
        "Original paper: https://www.cs.toronto.edu/~hinton/FFA13.pdf\n",
        "\n",
        "![ViT](./media/backprop_vs_ff.png)"
      ]
    },
    {
      "cell_type": "code",
      "execution_count": 1,
      "metadata": {
        "colab": {
          "base_uri": "https://localhost:8080/"
        },
        "id": "H2wV5ULym2CV",
        "outputId": "1a4d9f55-701f-4945-a62a-c1394d4a43b4"
      },
      "outputs": [],
      "source": [
        "%load_ext autoreload\n",
        "%autoreload 2\n",
        "\n",
        "# !pip install utils"
      ]
    },
    {
      "cell_type": "code",
      "execution_count": 2,
      "metadata": {
        "id": "2WwCX9RAm2CW"
      },
      "outputs": [],
      "source": [
        "from pathlib import Path\n",
        "from tqdm.notebook import tqdm\n",
        "\n",
        "import torch\n",
        "from dataset_utils import MNISTLoader, TrainingDatasetFF, CIFAR10Loader, EMNISTLoader, CIFAR100Loader\n",
        "from models import MultiLayerPerceptron, FFCNN, BPCNN\n",
        "from tools import base_loss, generate_positive_negative_samples_overlay\n",
        "from torchvision.transforms import Compose, ToTensor, Lambda, Normalize\n",
        "import matplotlib.pyplot as plt\n",
        "import numpy as np"
      ]
    },
    {
      "cell_type": "code",
      "execution_count": 3,
      "metadata": {
        "id": "BmuBAxR5m2CW"
      },
      "outputs": [],
      "source": [
        "## -- Set some variables\n",
        "PATH_DOWNLOAD = './tmp'\n",
        "torch.manual_seed(0)\n",
        "train_batch_size = 256\n",
        "test_batch_size = 256\n",
        "pos_gen_fn = generate_positive_negative_samples_overlay # which function to use to generate pos neg examples\n",
        "\n",
        "device = torch.device('cuda' if torch.cuda.is_available() else 'cpu')"
      ]
    },
    {
      "attachments": {},
      "cell_type": "markdown",
      "metadata": {
        "id": "JU7oR0F1m2CW"
      },
      "source": [
        "# 1.0 Import Data"
      ]
    },
    {
      "cell_type": "code",
      "execution_count": 4,
      "metadata": {},
      "outputs": [],
      "source": [
        "download_folder = Path(PATH_DOWNLOAD).mkdir(parents=True, exist_ok=True)\n",
        "\n",
        "transform = Compose([\n",
        "ToTensor(),\n",
        "Normalize((0.1307,), (0.3081,))])\n",
        "\n",
        "data_loader = MNISTLoader(train_transform=transform,\n",
        "                        test_transform=transform)\n",
        "hidden_dimensions = [1, 16, 32, 400, 140, 84] # first is input size\n",
        "kernel_size = 5"
      ]
    },
    {
      "cell_type": "code",
      "execution_count": 5,
      "metadata": {},
      "outputs": [],
      "source": [
        "data_loader.download_dataset()\n",
        "train_loader = data_loader.get_train_loader(train_batch_size)\n",
        "test_loader = data_loader.get_test_loader(test_batch_size)\n"
      ]
    },
    {
      "cell_type": "code",
      "execution_count": 6,
      "metadata": {
        "colab": {
          "base_uri": "https://localhost:8080/",
          "height": 461
        },
        "id": "BxLIIXZQm2CX",
        "outputId": "4960a596-1514-48cf-fd76-7f0c56a7563c"
      },
      "outputs": [],
      "source": [
        "# it takes 10s to prepare all training dataset\n",
        "train_loader_ff = torch.utils.data.DataLoader(TrainingDatasetFF(pos_gen_fn(X.to(device),\n",
        "                                                                           Y.to(device),\n",
        "                                                                           num_classes=10,\n",
        "                                                                           only_positive=False)\n",
        "                                                                for X, Y in train_loader),\n",
        "                                              batch_size=train_loader.batch_size, shuffle=True\n",
        "                                              )\n"
      ]
    },
    {
      "attachments": {},
      "cell_type": "markdown",
      "metadata": {
        "id": "Bd4yv4U1m2CX"
      },
      "source": [
        "# 2.0 Create Network"
      ]
    },
    {
      "cell_type": "code",
      "execution_count": 15,
      "metadata": {
        "id": "dYAtQzshm2CX"
      },
      "outputs": [],
      "source": [
        "## -- Set some variables\n",
        "activation = torch.nn.ReLU()\n",
        "#activation = torch.nn.Sigmoid()\n",
        "#activation = torch.nn.LeakyReLU()\n",
        "#activation = torch.nn.Softmax(dim=1)\n",
        "#activation = torch.nn.LogSoftmax(dim=1)\n",
        "layer_optim_learning_rate = 0.05\n",
        "optimizer = torch.optim.Adam\n",
        "threshold = 2.0\n",
        "loss = base_loss \n",
        "method = \"MSE\"\n",
        "model_arch = \"MLP\"\n",
        "num_classes=10\n"
      ]
    },
    {
      "cell_type": "code",
      "execution_count": null,
      "metadata": {
        "id": "MmPhhMN9m2CX"
      },
      "outputs": [],
      "source": [
        "model = FFCNN(hidden_dimensions, activation, optimizer, \n",
        "              layer_optim_learning_rate,threshold, loss, \n",
        "              method, kernel_size, replace=True).to(device)"
      ]
    },
    {
      "cell_type": "code",
      "execution_count": 9,
      "metadata": {
        "id": "SaLFw1379D_o"
      },
      "outputs": [
        {
          "data": {
            "text/plain": [
              "414880"
            ]
          },
          "execution_count": 9,
          "metadata": {},
          "output_type": "execute_result"
        }
      ],
      "source": [
        "def count_parameters(model):\n",
        "    num_params = sum(p.numel() for p in model.parameters() if p.requires_grad)\n",
        "    return num_params\n",
        "\n",
        "count_parameters(model)\n",
        "# for layer in mlp_model.layers:\n",
        "#     # Count the parameters\n",
        "#     num_params = count_parameters(layer)\n",
        "#     print(\"Number of parameters:\", num_params)"
      ]
    },
    {
      "attachments": {},
      "cell_type": "markdown",
      "metadata": {
        "id": "RJqM1nhdm2CY"
      },
      "source": [
        "## 3.0 Train Network"
      ]
    },
    {
      "cell_type": "code",
      "execution_count": 10,
      "metadata": {
        "id": "JEOxz0QRm2CY"
      },
      "outputs": [],
      "source": [
        "## -- Set some variables\n",
        "n_epochs = 60\n",
        "print_every_10_epochs = True\n",
        "\n",
        "# choose one of the following training procedures."
      ]
    },
    {
      "attachments": {},
      "cell_type": "markdown",
      "metadata": {
        "id": "DTFPk26qm2CY"
      },
      "source": [
        "## 3.1 Train all layers at the same time"
      ]
    },
    {
      "cell_type": "code",
      "execution_count": 14,
      "metadata": {
        "id": "rh7-dWVXm2CY"
      },
      "outputs": [
        {
          "data": {
            "application/vnd.jupyter.widget-view+json": {
              "model_id": "3b046c2f60b642748ad554f78856f7dc",
              "version_major": 2,
              "version_minor": 0
            },
            "text/plain": [
              "  0%|          | 0/60 [00:00<?, ?it/s]"
            ]
          },
          "metadata": {},
          "output_type": "display_data"
        },
        {
          "name": "stdout",
          "output_type": "stream",
          "text": [
            "Epoch: 0 1.389725923538208, Layer 1: 0, Layer 2: 9.000246047973633, Layer 3: 0, Layer 4: 1.3862942457199097, Layer 5: 1.3924598693847656, Layer 6: 1.38629674911499022\n"
          ]
        },
        {
          "data": {
            "application/vnd.jupyter.widget-view+json": {
              "model_id": "6372c37a0d18409e865717e8e1933467",
              "version_major": 2,
              "version_minor": 0
            },
            "text/plain": [
              "  0%|          | 0/235 [00:00<?, ?it/s]"
            ]
          },
          "metadata": {},
          "output_type": "display_data"
        },
        {
          "name": "stdout",
          "output_type": "stream",
          "text": [
            "Overall Train Accuracy: 10.2183%\n",
            "Overall Train Error: 89.7817%\n"
          ]
        },
        {
          "data": {
            "application/vnd.jupyter.widget-view+json": {
              "model_id": "0ee95600707c4bc4b3a7625ae4c4c04c",
              "version_major": 2,
              "version_minor": 0
            },
            "text/plain": [
              "  0%|          | 0/40 [00:00<?, ?it/s]"
            ]
          },
          "metadata": {},
          "output_type": "display_data"
        },
        {
          "name": "stdout",
          "output_type": "stream",
          "text": [
            "Accuracy: 10.1000%\n",
            "Test error: 89.9000%\n",
            "Epoch: 101.3876748085021973, Layer 1: 0, Layer 2: 9.000246047973633, Layer 3: 0, Layer 4: 1.3862942457199097, Layer 5: 1.3862957954406738, Layer 6: 1.3862949609756478\n"
          ]
        },
        {
          "data": {
            "application/vnd.jupyter.widget-view+json": {
              "model_id": "9a4da8d60842408c981f17b16d9cda61",
              "version_major": 2,
              "version_minor": 0
            },
            "text/plain": [
              "  0%|          | 0/235 [00:00<?, ?it/s]"
            ]
          },
          "metadata": {},
          "output_type": "display_data"
        },
        {
          "ename": "KeyboardInterrupt",
          "evalue": "",
          "output_type": "error",
          "traceback": [
            "\u001b[1;31m---------------------------------------------------------------------------\u001b[0m",
            "\u001b[1;31mKeyboardInterrupt\u001b[0m                         Traceback (most recent call last)",
            "\u001b[1;32mc:\\ECS289G-final\\src\\FF_MNIST_CNN.ipynb Cell 16\u001b[0m in \u001b[0;36m<cell line: 1>\u001b[1;34m()\u001b[0m\n\u001b[0;32m     <a href='vscode-notebook-cell:/c%3A/ECS289G-final/src/FF_MNIST_CNN.ipynb#X21sZmlsZQ%3D%3D?line=9'>10</a>\u001b[0m     X_train \u001b[39m=\u001b[39m X_train\u001b[39m.\u001b[39mto(device)\n\u001b[0;32m     <a href='vscode-notebook-cell:/c%3A/ECS289G-final/src/FF_MNIST_CNN.ipynb#X21sZmlsZQ%3D%3D?line=10'>11</a>\u001b[0m     Y_train \u001b[39m=\u001b[39m Y_train\u001b[39m.\u001b[39mto(device)\n\u001b[1;32m---> <a href='vscode-notebook-cell:/c%3A/ECS289G-final/src/FF_MNIST_CNN.ipynb#X21sZmlsZQ%3D%3D?line=12'>13</a>\u001b[0m     acc \u001b[39m+\u001b[39m\u001b[39m=\u001b[39m (model\u001b[39m.\u001b[39;49mpredict_accumulate_goodness(X_train, pos_gen_fn, n_class\u001b[39m=\u001b[39;49mnum_classes)\u001b[39m.\u001b[39meq(Y_train)\u001b[39m.\u001b[39msum())\n\u001b[0;32m     <a href='vscode-notebook-cell:/c%3A/ECS289G-final/src/FF_MNIST_CNN.ipynb#X21sZmlsZQ%3D%3D?line=14'>15</a>\u001b[0m train_accuracy \u001b[39m=\u001b[39m acc \u001b[39m/\u001b[39m \u001b[39mfloat\u001b[39m(\u001b[39mlen\u001b[39m(train_loader\u001b[39m.\u001b[39mdataset))\n\u001b[0;32m     <a href='vscode-notebook-cell:/c%3A/ECS289G-final/src/FF_MNIST_CNN.ipynb#X21sZmlsZQ%3D%3D?line=15'>16</a>\u001b[0m train_error \u001b[39m=\u001b[39m \u001b[39m1\u001b[39m \u001b[39m-\u001b[39m train_accuracy\n",
            "File \u001b[1;32mc:\\ECS289G-final\\src\\models.py:52\u001b[0m, in \u001b[0;36mFFSequentialModel.predict_accumulate_goodness\u001b[1;34m(self, X, pos_gen_fn, n_class)\u001b[0m\n\u001b[0;32m     50\u001b[0m goodness \u001b[39m=\u001b[39m []\n\u001b[0;32m     51\u001b[0m \u001b[39mfor\u001b[39;00m layer \u001b[39min\u001b[39;00m \u001b[39mself\u001b[39m\u001b[39m.\u001b[39mlayers:\n\u001b[1;32m---> 52\u001b[0m     h \u001b[39m=\u001b[39m layer(h)\n\u001b[0;32m     53\u001b[0m     \u001b[39mif\u001b[39;00m (\u001b[39mlen\u001b[39m(h\u001b[39m.\u001b[39mshape) \u001b[39m>\u001b[39m \u001b[39m2\u001b[39m):\n\u001b[0;32m     54\u001b[0m         tmp_h \u001b[39m=\u001b[39m h\u001b[39m.\u001b[39mview(h\u001b[39m.\u001b[39msize(\u001b[39m0\u001b[39m), \u001b[39m-\u001b[39m\u001b[39m1\u001b[39m)\n",
            "File \u001b[1;32mc:\\Users\\sohyu\\anaconda3\\lib\\site-packages\\torch\\nn\\modules\\module.py:1501\u001b[0m, in \u001b[0;36mModule._call_impl\u001b[1;34m(self, *args, **kwargs)\u001b[0m\n\u001b[0;32m   1496\u001b[0m \u001b[39m# If we don't have any hooks, we want to skip the rest of the logic in\u001b[39;00m\n\u001b[0;32m   1497\u001b[0m \u001b[39m# this function, and just call forward.\u001b[39;00m\n\u001b[0;32m   1498\u001b[0m \u001b[39mif\u001b[39;00m \u001b[39mnot\u001b[39;00m (\u001b[39mself\u001b[39m\u001b[39m.\u001b[39m_backward_hooks \u001b[39mor\u001b[39;00m \u001b[39mself\u001b[39m\u001b[39m.\u001b[39m_backward_pre_hooks \u001b[39mor\u001b[39;00m \u001b[39mself\u001b[39m\u001b[39m.\u001b[39m_forward_hooks \u001b[39mor\u001b[39;00m \u001b[39mself\u001b[39m\u001b[39m.\u001b[39m_forward_pre_hooks\n\u001b[0;32m   1499\u001b[0m         \u001b[39mor\u001b[39;00m _global_backward_pre_hooks \u001b[39mor\u001b[39;00m _global_backward_hooks\n\u001b[0;32m   1500\u001b[0m         \u001b[39mor\u001b[39;00m _global_forward_hooks \u001b[39mor\u001b[39;00m _global_forward_pre_hooks):\n\u001b[1;32m-> 1501\u001b[0m     \u001b[39mreturn\u001b[39;00m forward_call(\u001b[39m*\u001b[39margs, \u001b[39m*\u001b[39m\u001b[39m*\u001b[39mkwargs)\n\u001b[0;32m   1502\u001b[0m \u001b[39m# Do not call functions when jit is used\u001b[39;00m\n\u001b[0;32m   1503\u001b[0m full_backward_hooks, non_full_backward_hooks \u001b[39m=\u001b[39m [], []\n",
            "File \u001b[1;32mc:\\Users\\sohyu\\anaconda3\\lib\\site-packages\\torch\\nn\\modules\\pooling.py:166\u001b[0m, in \u001b[0;36mMaxPool2d.forward\u001b[1;34m(self, input)\u001b[0m\n\u001b[0;32m    165\u001b[0m \u001b[39mdef\u001b[39;00m \u001b[39mforward\u001b[39m(\u001b[39mself\u001b[39m, \u001b[39minput\u001b[39m: Tensor):\n\u001b[1;32m--> 166\u001b[0m     \u001b[39mreturn\u001b[39;00m F\u001b[39m.\u001b[39;49mmax_pool2d(\u001b[39minput\u001b[39;49m, \u001b[39mself\u001b[39;49m\u001b[39m.\u001b[39;49mkernel_size, \u001b[39mself\u001b[39;49m\u001b[39m.\u001b[39;49mstride,\n\u001b[0;32m    167\u001b[0m                         \u001b[39mself\u001b[39;49m\u001b[39m.\u001b[39;49mpadding, \u001b[39mself\u001b[39;49m\u001b[39m.\u001b[39;49mdilation, ceil_mode\u001b[39m=\u001b[39;49m\u001b[39mself\u001b[39;49m\u001b[39m.\u001b[39;49mceil_mode,\n\u001b[0;32m    168\u001b[0m                         return_indices\u001b[39m=\u001b[39;49m\u001b[39mself\u001b[39;49m\u001b[39m.\u001b[39;49mreturn_indices)\n",
            "File \u001b[1;32mc:\\Users\\sohyu\\anaconda3\\lib\\site-packages\\torch\\_jit_internal.py:484\u001b[0m, in \u001b[0;36mboolean_dispatch.<locals>.fn\u001b[1;34m(*args, **kwargs)\u001b[0m\n\u001b[0;32m    482\u001b[0m     \u001b[39mreturn\u001b[39;00m if_true(\u001b[39m*\u001b[39margs, \u001b[39m*\u001b[39m\u001b[39m*\u001b[39mkwargs)\n\u001b[0;32m    483\u001b[0m \u001b[39melse\u001b[39;00m:\n\u001b[1;32m--> 484\u001b[0m     \u001b[39mreturn\u001b[39;00m if_false(\u001b[39m*\u001b[39margs, \u001b[39m*\u001b[39m\u001b[39m*\u001b[39mkwargs)\n",
            "File \u001b[1;32mc:\\Users\\sohyu\\anaconda3\\lib\\site-packages\\torch\\nn\\functional.py:782\u001b[0m, in \u001b[0;36m_max_pool2d\u001b[1;34m(input, kernel_size, stride, padding, dilation, ceil_mode, return_indices)\u001b[0m\n\u001b[0;32m    780\u001b[0m \u001b[39mif\u001b[39;00m stride \u001b[39mis\u001b[39;00m \u001b[39mNone\u001b[39;00m:\n\u001b[0;32m    781\u001b[0m     stride \u001b[39m=\u001b[39m torch\u001b[39m.\u001b[39mjit\u001b[39m.\u001b[39mannotate(List[\u001b[39mint\u001b[39m], [])\n\u001b[1;32m--> 782\u001b[0m \u001b[39mreturn\u001b[39;00m torch\u001b[39m.\u001b[39;49mmax_pool2d(\u001b[39minput\u001b[39;49m, kernel_size, stride, padding, dilation, ceil_mode)\n",
            "\u001b[1;31mKeyboardInterrupt\u001b[0m: "
          ]
        }
      ],
      "source": [
        "for epoch in tqdm(range(n_epochs)):\n",
        "    for X_pos, Y_neg in train_loader_ff:\n",
        "        layer_losses = model.train_batch(X_pos, Y_neg, before=False)\n",
        "        print(\", \".join(map(lambda i, l: 'Layer {}: {}'.format(i, l),list(range(len(layer_losses))) ,layer_losses)), end='\\r')\n",
        "\n",
        "    if epoch % 10 == 0 and print_every_10_epochs == True:\n",
        "      print(\"Epoch:\", epoch)\n",
        "      acc = 0\n",
        "      for X_train, Y_train in tqdm(train_loader, total=len(train_loader)):\n",
        "          X_train = X_train.to(device)\n",
        "          Y_train = Y_train.to(device)\n",
        "\n",
        "          acc += (model.predict_accumulate_goodness(X_train, pos_gen_fn, n_class=num_classes).eq(Y_train).sum())\n",
        "\n",
        "      train_accuracy = acc / float(len(train_loader.dataset))\n",
        "      train_error = 1 - train_accuracy\n",
        "\n",
        "\n",
        "      print(\"Overall Train Accuracy: {:.4%}\".format(train_accuracy))\n",
        "      print(\"Overall Train Error: {:.4%}\".format(train_error))\n",
        "      acc = 0\n",
        "\n",
        "      for X_test, Y_test in tqdm(test_loader, total=len(test_loader)):\n",
        "          X_test = X_test.to(device)\n",
        "          Y_test = Y_test.to(device)\n",
        "\n",
        "          acc += (model.predict_accumulate_goodness(X_test,\n",
        "                  pos_gen_fn, n_class=num_classes).eq(Y_test).sum())\n",
        "\n",
        "      print(f\"Accuracy: {acc/float(len(data_loader.test_set)):.4%}\")\n",
        "      print(f\"Test error: {1 - acc/float(len(data_loader.test_set)):.4%}\")\n",
        "\n",
        "\n",
        "        # Example usage\n",
        "        # image, label = next(iter(train_loader_ff))\n",
        "        # image = image.to(device)\n",
        "        # image = image.squeeze().cpu().numpy()\n",
        "        # importance_scores = deepLIFT(mlp_model, image, torch.cat([X_pos for X_pos, _ in iter(train_loader_ff)]).mean())  # Compute importance scores\n",
        "        # normalized_scores = normalize_scores(importance_scores)  # Normalize importance scores\n",
        "        # visualize_importance_scores(image, normalized_scores)\n",
        "    "
      ]
    },
    {
      "cell_type": "code",
      "execution_count": null,
      "metadata": {
        "id": "gYrUiLHZx5wV"
      },
      "outputs": [],
      "source": [
        "# Calculate train accuracy after each epoch\n",
        "acc = 0\n",
        "for X_train, Y_train in tqdm(train_loader, total=len(train_loader)):\n",
        "    X_train = X_train.to(device)\n",
        "    Y_train = Y_train.to(device)\n",
        "\n",
        "    acc += (model.predict_accomulate_goodness(X_train, pos_gen_fn, n_class=num_classes, method=method).eq(Y_train).sum())\n",
        "\n",
        "train_accuracy = acc / float(len(train_loader.dataset))\n",
        "train_error = 1 - train_accuracy\n",
        "\n",
        "\n",
        "print(\"Overall Train Accuracy: {:.4%}\".format(train_accuracy))\n",
        "print(\"Overall Train Error: {:.4%}\".format(train_error))"
      ]
    },
    {
      "attachments": {},
      "cell_type": "markdown",
      "metadata": {
        "id": "jdmwSN3Dm2CY"
      },
      "source": [
        "## 3.2 Train one layer at a time"
      ]
    },
    {
      "cell_type": "code",
      "execution_count": null,
      "metadata": {
        "id": "ICweFOKmm2CY"
      },
      "outputs": [],
      "source": [
        "#mlp_model.train_batch_progressive(n_epochs, train_loader_ff)"
      ]
    },
    {
      "attachments": {},
      "cell_type": "markdown",
      "metadata": {
        "id": "KbM5KrwCm2CY"
      },
      "source": [
        "# 4.0 Test the Network"
      ]
    },
    {
      "cell_type": "code",
      "execution_count": null,
      "metadata": {
        "id": "W_l7UANam2CY"
      },
      "outputs": [],
      "source": [
        "acc = 0\n",
        "\n",
        "for X_test, Y_test in tqdm(test_loader, total=len(test_loader)):\n",
        "    X_test = X_test.to(device)\n",
        "    Y_test = Y_test.to(device)\n",
        "\n",
        "    acc += (model.predict_accomulate_goodness(X_test,\n",
        "            pos_gen_fn, n_class=num_classes, method=method).eq(Y_test).sum())\n",
        "\n",
        "print(f\"Accuracy: {acc/float(len(data_loader.test_set)):.4%}\")\n",
        "print(f\"Test error: {1 - acc/float(len(data_loader.test_set)):.4%}\")\n"
      ]
    },
    {
      "attachments": {},
      "cell_type": "markdown",
      "metadata": {
        "id": "d_rqOI91m2CZ"
      },
      "source": [
        "# 5.0 Back Propagation"
      ]
    },
    {
      "cell_type": "code",
      "execution_count": null,
      "metadata": {
        "id": "6lVGSOQKm2CZ"
      },
      "outputs": [],
      "source": [
        "## -- Set some variables\n",
        "n_epochs= 60\n",
        "# if pick_dataset == \"MNIST\":\n",
        "#   hidden_dimensions = [784, 500, 500, 10] # first is input size\n",
        "# elif pick_dataset == \"CIFAR10\":\n",
        "#   hidden_dimensions = [3072, 500, 500, 10]\n",
        "#activation = torch.nn.ReLU()\n",
        "optimizer = torch.optim.Adam\n",
        "loss_fn = torch.nn.CrossEntropyLoss()\n",
        "\n"
      ]
    },
    {
      "cell_type": "code",
      "execution_count": null,
      "metadata": {
        "id": "sce6UpQbm2CZ"
      },
      "outputs": [],
      "source": [
        "if model_arch == \"MLP\":\n",
        "  backprop_model = MultiLayerPerceptron(hidden_dimensions, activation).to(device)\n",
        "  hidden_dimensions.append(num_classes)\n",
        "elif model_arch == \"CNN\":\n",
        "  backprop_model = BPCNN(hidden_dimensions, activation, num_classes, kernel_size).to(device)\n",
        "\n",
        "optimizer = optimizer(backprop_model.parameters())\n"
      ]
    },
    {
      "cell_type": "code",
      "execution_count": null,
      "metadata": {
        "id": "R_lVlp1J9Ims"
      },
      "outputs": [],
      "source": [
        "def count_parameters(model):\n",
        "    num_params = sum(p.numel() for p in model.parameters() if p.requires_grad)\n",
        "    return num_params\n",
        "\n",
        "count_parameters(backprop_model)\n",
        "# for layer in mlp_model.layers:\n",
        "#     # Count the parameters\n",
        "#     num_params = count_parameters(layer)\n",
        "#     print(\"Number of parameters:\", num_params)"
      ]
    },
    {
      "cell_type": "code",
      "execution_count": null,
      "metadata": {
        "id": "v9lp17gXm2CZ"
      },
      "outputs": [],
      "source": [
        "from __future__ import print_function\n",
        "for epoch in tqdm(range(n_epochs)):\n",
        "    for i, (X_train, Y_train) in enumerate(train_loader):\n",
        "        X_train = X_train.to(device)\n",
        "        Y_train = Y_train.to(device)\n",
        "\n",
        "        Y_pred = backprop_model(X_train)\n",
        "\n",
        "        loss = loss_fn(Y_pred, Y_train)\n",
        "\n",
        "        optimizer.zero_grad()\n",
        "        loss.backward()\n",
        "        optimizer.step()\n",
        "\n",
        "        print(f\"Loss: {loss}\", end='\\r')\n",
        "      \n",
        "    if epoch % 10 == 0 and print_every_10_epochs == True:\n",
        "      acc = 0\n",
        "      for X_train, Y_train in tqdm(train_loader, total=len(train_loader)):\n",
        "          X_train = X_train.to(device)\n",
        "          Y_train = Y_train.to(device)\n",
        "\n",
        "          acc += (torch.softmax(backprop_model(X_train), 1).argmax(1).eq(Y_train).sum())\n",
        "\n",
        "      print(\"Epoch: \", epoch)\n",
        "      print(f\"Accuracy: {acc/float(len(data_loader.train_set)):.4%}\")\n",
        "      print(f\"Train error: {1 - acc/float(len(data_loader.train_set)):.4%}\")\n",
        "\n",
        "      acc = 0\n",
        "      for X_test, Y_test in tqdm(test_loader, total=len(test_loader)):\n",
        "          X_test = X_test.to(device)\n",
        "          Y_test = Y_test.to(device)\n",
        "\n",
        "          acc += (torch.softmax(backprop_model(X_test), 1).argmax(1).eq(Y_test).sum())\n",
        "\n",
        "      print(f\"Accuracy: {acc/float(len(data_loader.test_set)):.4%}\")\n",
        "      print(f\"Test error: {1 - acc/float(len(data_loader.test_set)):.4%}\")\n",
        "\n"
      ]
    },
    {
      "cell_type": "code",
      "execution_count": null,
      "metadata": {
        "id": "K9CkDIQIzw5f"
      },
      "outputs": [],
      "source": [
        "# Train accuracy\n",
        "acc = 0\n",
        "for X_train, Y_train in tqdm(train_loader, total=len(train_loader)):\n",
        "    X_train = X_train.to(device)\n",
        "    Y_train = Y_train.to(device)\n",
        "\n",
        "    acc += (torch.softmax(backprop_model(X_train), 1).argmax(1).eq(Y_train).sum())\n",
        "\n",
        "print(f\"Accuracy: {acc/float(len(data_loader.train_set)):.4%}\")\n",
        "print(f\"Test error: {1 - acc/float(len(data_loader.train_set)):.4%}\")"
      ]
    },
    {
      "cell_type": "code",
      "execution_count": null,
      "metadata": {
        "id": "4i9PvSrRm2CZ"
      },
      "outputs": [],
      "source": [
        "# Test accuracy\n",
        "acc = 0\n",
        "for X_test, Y_test in tqdm(test_loader, total=len(test_loader)):\n",
        "    X_test = X_test.to(device)\n",
        "    Y_test = Y_test.to(device)\n",
        "\n",
        "    acc += (torch.softmax(backprop_model(X_test), 1).argmax(1).eq(Y_test).sum())\n",
        "\n",
        "print(f\"Accuracy: {acc/float(len(data_loader.test_set)):.4%}\")\n",
        "print(f\"Test error: {1 - acc/float(len(data_loader.test_set)):.4%}\")"
      ]
    }
  ],
  "metadata": {
    "colab": {
      "provenance": []
    },
    "kernelspec": {
      "display_name": "pytorch",
      "language": "python",
      "name": "python3"
    },
    "language_info": {
      "codemirror_mode": {
        "name": "ipython",
        "version": 3
      },
      "file_extension": ".py",
      "mimetype": "text/x-python",
      "name": "python",
      "nbconvert_exporter": "python",
      "pygments_lexer": "ipython3",
      "version": "3.9.12"
    },
    "vscode": {
      "interpreter": {
        "hash": "6905339ec9834455f3eeaf833f5d6a2573f0df69b633997954458b6d6617aa92"
      }
    }
  },
  "nbformat": 4,
  "nbformat_minor": 0
}
